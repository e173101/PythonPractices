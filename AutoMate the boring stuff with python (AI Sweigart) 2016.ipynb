{
 "cells": [
  {
   "cell_type": "markdown",
   "metadata": {},
   "source": [
    "# Chapter 0"
   ]
  },
  {
   "cell_type": "code",
   "execution_count": 3,
   "metadata": {},
   "outputs": [
    {
     "name": "stdout",
     "output_type": "stream",
     "text": [
      "Hello world!\n"
     ]
    }
   ],
   "source": [
    "print('Hello world!')"
   ]
  },
  {
   "cell_type": "code",
   "execution_count": 4,
   "metadata": {},
   "outputs": [
    {
     "ename": "TypeError",
     "evalue": "must be str, not int",
     "output_type": "error",
     "traceback": [
      "\u001b[1;31m---------------------------------------------------------------------------\u001b[0m",
      "\u001b[1;31mTypeError\u001b[0m                                 Traceback (most recent call last)",
      "\u001b[1;32m<ipython-input-4-a217647c2407>\u001b[0m in \u001b[0;36m<module>\u001b[1;34m()\u001b[0m\n\u001b[1;32m----> 1\u001b[1;33m \u001b[1;34m'43'\u001b[0m\u001b[1;33m+\u001b[0m\u001b[1;36m2\u001b[0m\u001b[1;33m\u001b[0m\u001b[0m\n\u001b[0m",
      "\u001b[1;31mTypeError\u001b[0m: must be str, not int"
     ]
    }
   ],
   "source": [
    "'43'+2"
   ]
  },
  {
   "cell_type": "markdown",
   "metadata": {},
   "source": [
    "# Chapter 1"
   ]
  },
  {
   "cell_type": "code",
   "execution_count": 7,
   "metadata": {},
   "outputs": [
    {
     "name": "stdout",
     "output_type": "stream",
     "text": [
      "What is your name?\n",
      "atian\n",
      "It is unfortunate to meet you, atian:\\(\n",
      "The length of your name is: 5\n",
      "5\n",
      "What is your age?\n",
      "27\n",
      "You will be 28in a year\n"
     ]
    }
   ],
   "source": [
    "# This program says hello balabala\n",
    "print('What is your name?') #ask for their name\n",
    "myName = input()\n",
    "print( 'It is unfortunate to meet you, '+ myName + ':\\(')\n",
    "print('The length of your name is: '+ str(len(myName)))\n",
    "print(len(myName))\n",
    "print('What is your age?')\n",
    "myAge = input()\n",
    "print('You will be '+ str(int(myAge) + 1) + ' in a year')"
   ]
  },
  {
   "cell_type": "code",
   "execution_count": null,
   "metadata": {},
   "outputs": [],
   "source": [
    "#输入一个8进制的数\n",
    "what = int(input(),8)"
   ]
  },
  {
   "cell_type": "code",
   "execution_count": null,
   "metadata": {},
   "outputs": [],
   "source": [
    "type(what)\n",
    "#输出10进制\n",
    "print (what)\n",
    "#输出8进制\n",
    "?"
   ]
  },
  {
   "cell_type": "code",
   "execution_count": null,
   "metadata": {},
   "outputs": [],
   "source": [
    "type(range(120))"
   ]
  },
  {
   "cell_type": "code",
   "execution_count": null,
   "metadata": {},
   "outputs": [],
   "source": [
    "#guess the number\n",
    "import random\n",
    "secretNumber = random.randint(1,500)\n",
    "\n",
    "# Ask the user X times\n",
    "X = 30\n",
    "for guessesTaken in range(1,X):\n",
    "    print('Take a gusee ',guessesTaken)\n",
    "    try:\n",
    "        guess = int(input())\n",
    "    except ValueError:\n",
    "        print('A number, please')\n",
    "        #这句是无效的，python中的for不允许修改循环变量\n",
    "        guessesTaken = guessesTaken - 1\n",
    "        continue\n",
    "    \n",
    "    if guess < secretNumber:\n",
    "        print('low!')\n",
    "    elif guess > secretNumber:\n",
    "        print('high')\n",
    "    else:\n",
    "        break\n",
    "        \n",
    "if guess == secretNumber:\n",
    "    print('Good job %d' % guessesTaken)\n",
    "else:\n",
    "    print('You already guess %d times' % guessesTaken)"
   ]
  },
  {
   "cell_type": "code",
   "execution_count": null,
   "metadata": {},
   "outputs": [],
   "source": []
  }
 ],
 "metadata": {
  "kernelspec": {
   "display_name": "Python 3",
   "language": "python",
   "name": "python3"
  },
  "language_info": {
   "codemirror_mode": {
    "name": "ipython",
    "version": 3
   },
   "file_extension": ".py",
   "mimetype": "text/x-python",
   "name": "python",
   "nbconvert_exporter": "python",
   "pygments_lexer": "ipython3",
   "version": "3.6.5"
  }
 },
 "nbformat": 4,
 "nbformat_minor": 2
}
